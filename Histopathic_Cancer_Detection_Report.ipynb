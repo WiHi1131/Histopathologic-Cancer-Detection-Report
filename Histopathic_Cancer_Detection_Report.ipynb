{
  "nbformat": 4,
  "nbformat_minor": 0,
  "metadata": {
    "colab": {
      "provenance": [],
      "mount_file_id": "1JQszNnvt9Q_KpHXq1xCXSZEKVAM58m7C",
      "authorship_tag": "ABX9TyMoyqDXA9OG9OPyL1jO1iNR",
      "include_colab_link": true
    },
    "kernelspec": {
      "name": "python3",
      "display_name": "Python 3"
    },
    "language_info": {
      "name": "python"
    },
    "accelerator": "TPU"
  },
  "cells": [
    {
      "cell_type": "markdown",
      "metadata": {
        "id": "view-in-github",
        "colab_type": "text"
      },
      "source": [
        "<a href=\"https://colab.research.google.com/github/WiHi1131/Histopathologic-Cancer-Detection-Report/blob/main/Histopathic_Cancer_Detection_Report.ipynb\" target=\"_parent\"><img src=\"https://colab.research.google.com/assets/colab-badge.svg\" alt=\"Open In Colab\"/></a>"
      ]
    },
    {
      "cell_type": "markdown",
      "source": [
        "# Introduction to the Histopathologic Cancer Detection Challenge\n",
        "## Background\n",
        "The Histopathologic Cancer Detection competition, hosted on Kaggle, presented a significant challenge in the field of medical image analysis. The competition began on November 16, 2018, and concluded on March 30, 2019. Its primary objective was to develop algorithms capable of identifying metastatic cancer from small image patches extracted from larger digital pathology scans. This report will detail my own attempt at identifying metastatic cancer from the same images as an exercise designed to showcase my knowledge and use of machine learning techniques.\n",
        "\n",
        "## Dataset Overview and Key Characteristics\n",
        "The dataset for this competition is a refined version of the PatchCamelyon (PCam) benchmark dataset, with duplicates removed for enhanced accuracy and challenge. This dataset is significant due to its size, simplicity, and potential for various machine learning research applications.\n",
        "\n",
        "### Dataset Details:\n",
        "\n",
        "- Size: The dataset includes a substantial number of images, making it suitable for training robust models.\n",
        "  - Test Set: Contains 57,500 .tif images, each approximately 27.94 kB in size.\n",
        "  - Training Set: Comprises 220,000 .tif images, with each image being of the same size as those in the test set.\n",
        "- Data Structure:\n",
        "  - Image Files: All images are in .tif format, which is common for high-quality pathology images.\n",
        "  - Labels:\n",
        "    - Training Labels: Provided in a train_labels.csv file. A positive label indicates the presence of tumor tissue in the central 32x32 pixel region of an image patch.\n",
        "    - Sample Submission: A sample submission file in .csv format is included to guide the format of competition submissions.\n",
        "- Clinical Relevance: The challenge focuses on detecting metastasis in pathology images, a critical task in cancer diagnosis.\n",
        "- Task Design: The problem is structured as a binary image classification task, akin to other popular datasets like CIFAR-10 and MNIST.\n",
        "- Feasibility for Training: Despite its large size, the dataset is structured to allow efficient training on standard hardware, including single GPU setups.\n",
        "- Research Potential: The dataset's structure and challenge make it a valuable resource for exploring key areas in machine learning, including model uncertainty, active learning, and explainability.\n",
        "\n",
        "## Acknowledgements\n",
        "The dataset was provided by Bas Veeling, with additional contributions from Babak Ehteshami Bejnordi, Geert Litjens, and Jeroen van der Laak. It is essential to reference specific papers if this dataset is used in scientific publications.\n",
        "\n",
        "##Evaluation Metric\n",
        "The primary evaluation metric for this competition is the area under the Receiver Operating Characteristic (ROC) curve. This metric assesses the performance of the prediction models based on their ability to distinguish between the two classes: presence or absence of tumor tissue.\n",
        "\n",
        "##Submission Format\n",
        "Participants are required to predict the probability that the central 32x32 pixel region of each image patch contains at least one pixel of tumor tissue. The submission file should follow the format: id, label, where each id corresponds to an image in the test set, and label is the predicted probability.\n",
        "\n",
        "This competition offers a unique opportunity to apply and enhance machine learning skills in a clinically significant domain, paving the way for advancements in medical diagnostics through AI."
      ],
      "metadata": {
        "id": "HBpGLBA0wEDe"
      }
    },
    {
      "cell_type": "code",
      "source": [
        "import os\n",
        "import matplotlib.pyplot as plt\n",
        "import matplotlib.image as mpimg"
      ],
      "metadata": {
        "id": "BeQIo0jItjwM"
      },
      "execution_count": 10,
      "outputs": []
    },
    {
      "cell_type": "code",
      "source": [
        "from google.colab import files\n",
        "\n",
        "#kaggle.json\n",
        "uploaded = files.upload()\n",
        "!mkdir -p ~/.kaggle\n",
        "!mv kaggle.json ~/.kaggle/\n",
        "!chmod 600 ~/.kaggle/kaggle.json"
      ],
      "metadata": {
        "colab": {
          "base_uri": "https://localhost:8080/",
          "height": 73
        },
        "id": "QpfIBC2Uq8TO",
        "outputId": "29c05e9c-a4bc-42c7-cb32-75b8df6fc103"
      },
      "execution_count": 6,
      "outputs": [
        {
          "output_type": "display_data",
          "data": {
            "text/plain": [
              "<IPython.core.display.HTML object>"
            ],
            "text/html": [
              "\n",
              "     <input type=\"file\" id=\"files-2ecadd1f-ce04-4324-98d6-03f619b26524\" name=\"files[]\" multiple disabled\n",
              "        style=\"border:none\" />\n",
              "     <output id=\"result-2ecadd1f-ce04-4324-98d6-03f619b26524\">\n",
              "      Upload widget is only available when the cell has been executed in the\n",
              "      current browser session. Please rerun this cell to enable.\n",
              "      </output>\n",
              "      <script>// Copyright 2017 Google LLC\n",
              "//\n",
              "// Licensed under the Apache License, Version 2.0 (the \"License\");\n",
              "// you may not use this file except in compliance with the License.\n",
              "// You may obtain a copy of the License at\n",
              "//\n",
              "//      http://www.apache.org/licenses/LICENSE-2.0\n",
              "//\n",
              "// Unless required by applicable law or agreed to in writing, software\n",
              "// distributed under the License is distributed on an \"AS IS\" BASIS,\n",
              "// WITHOUT WARRANTIES OR CONDITIONS OF ANY KIND, either express or implied.\n",
              "// See the License for the specific language governing permissions and\n",
              "// limitations under the License.\n",
              "\n",
              "/**\n",
              " * @fileoverview Helpers for google.colab Python module.\n",
              " */\n",
              "(function(scope) {\n",
              "function span(text, styleAttributes = {}) {\n",
              "  const element = document.createElement('span');\n",
              "  element.textContent = text;\n",
              "  for (const key of Object.keys(styleAttributes)) {\n",
              "    element.style[key] = styleAttributes[key];\n",
              "  }\n",
              "  return element;\n",
              "}\n",
              "\n",
              "// Max number of bytes which will be uploaded at a time.\n",
              "const MAX_PAYLOAD_SIZE = 100 * 1024;\n",
              "\n",
              "function _uploadFiles(inputId, outputId) {\n",
              "  const steps = uploadFilesStep(inputId, outputId);\n",
              "  const outputElement = document.getElementById(outputId);\n",
              "  // Cache steps on the outputElement to make it available for the next call\n",
              "  // to uploadFilesContinue from Python.\n",
              "  outputElement.steps = steps;\n",
              "\n",
              "  return _uploadFilesContinue(outputId);\n",
              "}\n",
              "\n",
              "// This is roughly an async generator (not supported in the browser yet),\n",
              "// where there are multiple asynchronous steps and the Python side is going\n",
              "// to poll for completion of each step.\n",
              "// This uses a Promise to block the python side on completion of each step,\n",
              "// then passes the result of the previous step as the input to the next step.\n",
              "function _uploadFilesContinue(outputId) {\n",
              "  const outputElement = document.getElementById(outputId);\n",
              "  const steps = outputElement.steps;\n",
              "\n",
              "  const next = steps.next(outputElement.lastPromiseValue);\n",
              "  return Promise.resolve(next.value.promise).then((value) => {\n",
              "    // Cache the last promise value to make it available to the next\n",
              "    // step of the generator.\n",
              "    outputElement.lastPromiseValue = value;\n",
              "    return next.value.response;\n",
              "  });\n",
              "}\n",
              "\n",
              "/**\n",
              " * Generator function which is called between each async step of the upload\n",
              " * process.\n",
              " * @param {string} inputId Element ID of the input file picker element.\n",
              " * @param {string} outputId Element ID of the output display.\n",
              " * @return {!Iterable<!Object>} Iterable of next steps.\n",
              " */\n",
              "function* uploadFilesStep(inputId, outputId) {\n",
              "  const inputElement = document.getElementById(inputId);\n",
              "  inputElement.disabled = false;\n",
              "\n",
              "  const outputElement = document.getElementById(outputId);\n",
              "  outputElement.innerHTML = '';\n",
              "\n",
              "  const pickedPromise = new Promise((resolve) => {\n",
              "    inputElement.addEventListener('change', (e) => {\n",
              "      resolve(e.target.files);\n",
              "    });\n",
              "  });\n",
              "\n",
              "  const cancel = document.createElement('button');\n",
              "  inputElement.parentElement.appendChild(cancel);\n",
              "  cancel.textContent = 'Cancel upload';\n",
              "  const cancelPromise = new Promise((resolve) => {\n",
              "    cancel.onclick = () => {\n",
              "      resolve(null);\n",
              "    };\n",
              "  });\n",
              "\n",
              "  // Wait for the user to pick the files.\n",
              "  const files = yield {\n",
              "    promise: Promise.race([pickedPromise, cancelPromise]),\n",
              "    response: {\n",
              "      action: 'starting',\n",
              "    }\n",
              "  };\n",
              "\n",
              "  cancel.remove();\n",
              "\n",
              "  // Disable the input element since further picks are not allowed.\n",
              "  inputElement.disabled = true;\n",
              "\n",
              "  if (!files) {\n",
              "    return {\n",
              "      response: {\n",
              "        action: 'complete',\n",
              "      }\n",
              "    };\n",
              "  }\n",
              "\n",
              "  for (const file of files) {\n",
              "    const li = document.createElement('li');\n",
              "    li.append(span(file.name, {fontWeight: 'bold'}));\n",
              "    li.append(span(\n",
              "        `(${file.type || 'n/a'}) - ${file.size} bytes, ` +\n",
              "        `last modified: ${\n",
              "            file.lastModifiedDate ? file.lastModifiedDate.toLocaleDateString() :\n",
              "                                    'n/a'} - `));\n",
              "    const percent = span('0% done');\n",
              "    li.appendChild(percent);\n",
              "\n",
              "    outputElement.appendChild(li);\n",
              "\n",
              "    const fileDataPromise = new Promise((resolve) => {\n",
              "      const reader = new FileReader();\n",
              "      reader.onload = (e) => {\n",
              "        resolve(e.target.result);\n",
              "      };\n",
              "      reader.readAsArrayBuffer(file);\n",
              "    });\n",
              "    // Wait for the data to be ready.\n",
              "    let fileData = yield {\n",
              "      promise: fileDataPromise,\n",
              "      response: {\n",
              "        action: 'continue',\n",
              "      }\n",
              "    };\n",
              "\n",
              "    // Use a chunked sending to avoid message size limits. See b/62115660.\n",
              "    let position = 0;\n",
              "    do {\n",
              "      const length = Math.min(fileData.byteLength - position, MAX_PAYLOAD_SIZE);\n",
              "      const chunk = new Uint8Array(fileData, position, length);\n",
              "      position += length;\n",
              "\n",
              "      const base64 = btoa(String.fromCharCode.apply(null, chunk));\n",
              "      yield {\n",
              "        response: {\n",
              "          action: 'append',\n",
              "          file: file.name,\n",
              "          data: base64,\n",
              "        },\n",
              "      };\n",
              "\n",
              "      let percentDone = fileData.byteLength === 0 ?\n",
              "          100 :\n",
              "          Math.round((position / fileData.byteLength) * 100);\n",
              "      percent.textContent = `${percentDone}% done`;\n",
              "\n",
              "    } while (position < fileData.byteLength);\n",
              "  }\n",
              "\n",
              "  // All done.\n",
              "  yield {\n",
              "    response: {\n",
              "      action: 'complete',\n",
              "    }\n",
              "  };\n",
              "}\n",
              "\n",
              "scope.google = scope.google || {};\n",
              "scope.google.colab = scope.google.colab || {};\n",
              "scope.google.colab._files = {\n",
              "  _uploadFiles,\n",
              "  _uploadFilesContinue,\n",
              "};\n",
              "})(self);\n",
              "</script> "
            ]
          },
          "metadata": {}
        },
        {
          "output_type": "stream",
          "name": "stdout",
          "text": [
            "Saving kaggle.json to kaggle.json\n"
          ]
        }
      ]
    },
    {
      "cell_type": "code",
      "source": [
        "!kaggle competitions download -c histopathologic-cancer-detection\n",
        "import zipfile\n"
      ],
      "metadata": {
        "colab": {
          "base_uri": "https://localhost:8080/"
        },
        "id": "xYuXrfLjrgtH",
        "outputId": "b6ae4ff3-1bb7-4bbd-e80d-c8934b158b6e"
      },
      "execution_count": 7,
      "outputs": [
        {
          "output_type": "stream",
          "name": "stdout",
          "text": [
            "Downloading histopathologic-cancer-detection.zip to /content\n",
            "100% 6.30G/6.31G [01:15<00:00, 183MB/s]\n",
            "100% 6.31G/6.31G [01:15<00:00, 89.9MB/s]\n"
          ]
        }
      ]
    },
    {
      "cell_type": "code",
      "source": [
        "with zipfile.ZipFile('/content/histopathologic-cancer-detection.zip', 'r') as zip_ref:\n",
        "    zip_ref.extractall('/content/histopathologic_dataset')"
      ],
      "metadata": {
        "id": "6S5JJ0HfriVv"
      },
      "execution_count": 8,
      "outputs": []
    },
    {
      "cell_type": "code",
      "source": [],
      "metadata": {
        "id": "76zzqwEytob-"
      },
      "execution_count": null,
      "outputs": []
    }
  ]
}